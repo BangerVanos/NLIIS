{
 "cells": [
  {
   "cell_type": "code",
   "execution_count": 10,
   "metadata": {},
   "outputs": [],
   "source": [
    "from app.nl_processor.vocabulary_creator import VocabularyCreator, VocabularyRepository\n",
    "from app.nl_processor.pdf_reader import PDFReader\n",
    "import time"
   ]
  },
  {
   "cell_type": "code",
   "execution_count": 7,
   "metadata": {},
   "outputs": [
    {
     "data": {
      "text/plain": [
       "-0.017298799997661263"
      ]
     },
     "execution_count": 7,
     "metadata": {},
     "output_type": "execute_result"
    }
   ],
   "source": [
    "file_path = 'D:\\\\Programms\\\\Programming\\\\BSUIR\\\\NLIIS\\\\LW1\\\\test.pdf'\n",
    "time_start = time.perf_counter()\n",
    "text = PDFReader.extract_text_with_path(file_path)\n",
    "time_end = time.perf_counter()\n",
    "time_start - time_end"
   ]
  },
  {
   "cell_type": "code",
   "execution_count": 8,
   "metadata": {},
   "outputs": [
    {
     "data": {
      "text/plain": [
       "'I used to work on cruise ships as a musician. I travelled a lot! I spent the month before the\\nfirst lockdown in four continents! I used to get up really early, drive to the airport and fly to\\na port across the world and get on a ship just to get to work! Then I used to spend\\nbetween three and fourteen days on the ship. The ships were great. The food was\\nexcellent, and the staff were brilliant. The ship stopped at fantastic places, and I often\\nused to spend the afternoon at the beach drinking cocktails or sightseeing. But there were\\ndisadvantages too. I often didn’t know anyone on the ship. But the passengers all knew\\nme, and they used to talk to me every time I left my cabin. I didn’t have any privacy. Of\\ncourse, I had to chat to them politely even when I wasn’t in the mood.'"
      ]
     },
     "execution_count": 8,
     "metadata": {},
     "output_type": "execute_result"
    }
   ],
   "source": [
    "text"
   ]
  },
  {
   "cell_type": "code",
   "execution_count": 9,
   "metadata": {},
   "outputs": [
    {
     "name": "stderr",
     "output_type": "stream",
     "text": [
      "Invalid upos type = DET\n",
      "Invalid upos type = ADP\n",
      "Invalid upos type = PRON\n",
      "Invalid upos type = CCONJ\n",
      "Invalid upos type = DET\n",
      "Invalid upos type = PRON\n",
      "Invalid upos type = ADP\n",
      "Invalid upos type = ADP\n",
      "Invalid upos type = ADP\n",
      "Invalid upos type = ADP\n",
      "Invalid upos type = CCONJ\n",
      "Invalid upos type = DET\n",
      "Invalid upos type = NUM\n",
      "Invalid upos type = NUM\n",
      "Invalid upos type = PRON\n",
      "Invalid upos type = ADP\n",
      "Invalid upos type = PRON\n",
      "Invalid upos type = ADP\n",
      "Invalid upos type = ADP\n",
      "Invalid upos type = CCONJ\n",
      "Invalid upos type = DET\n",
      "Invalid upos type = PRON\n",
      "Invalid upos type = PRON\n",
      "Invalid upos type = NUM\n",
      "Invalid upos type = ADP\n",
      "Invalid upos type = PART\n",
      "Invalid upos type = ADP\n",
      "Invalid upos type = SCONJ\n"
     ]
    },
    {
     "data": {
      "text/plain": [
       "0.20544739998877048"
      ]
     },
     "execution_count": 9,
     "metadata": {},
     "output_type": "execute_result"
    }
   ],
   "source": [
    "creator = VocabularyCreator(text)\n",
    "time_start = time.perf_counter()\n",
    "creator.save_inflections()\n",
    "time_end = time.perf_counter()\n",
    "time_end - time_start"
   ]
  },
  {
   "cell_type": "code",
   "execution_count": 11,
   "metadata": {},
   "outputs": [
    {
     "data": {
      "text/plain": [
       "0.0006500000017695129"
      ]
     },
     "execution_count": 11,
     "metadata": {},
     "output_type": "execute_result"
    }
   ],
   "source": [
    "time_start = time.perf_counter()\n",
    "VocabularyRepository.filter_vocabulary(VocabularyRepository.load_global_vocabulary(), lemma='lie', pos='VERB')\n",
    "time_end = time.perf_counter()\n",
    "time_end - time_start"
   ]
  },
  {
   "cell_type": "code",
   "execution_count": 12,
   "metadata": {},
   "outputs": [
    {
     "data": {
      "text/plain": [
       "{'lie': {'pos': 'VERB',\n",
       "  'inflections': {'VB': ['lie'],\n",
       "   'VBD': ['lay', 'lied'],\n",
       "   'VBG': ['lying'],\n",
       "   'VBN': ['lain', 'lied'],\n",
       "   'VBP': ['lie'],\n",
       "   'VBZ': ['lies']},\n",
       "  'sentence_part': ['simple predicate',\n",
       "   'complete predicate',\n",
       "   'compound predicate'],\n",
       "  'creation_type': 'manual'}}"
      ]
     },
     "execution_count": 12,
     "metadata": {},
     "output_type": "execute_result"
    }
   ],
   "source": [
    "time_start = time.perf_counter()\n",
    "VocabularyRepository.filter_vocabulary(VocabularyRepository.load_global_vocabulary(), lemma='lie', pos='VERB')"
   ]
  },
  {
   "cell_type": "code",
   "execution_count": 13,
   "metadata": {},
   "outputs": [
    {
     "data": {
      "text/plain": [
       "0.003623099997639656"
      ]
     },
     "execution_count": 13,
     "metadata": {},
     "output_type": "execute_result"
    }
   ],
   "source": [
    "lemma = {'lie': {'pos': 'VERB',\n",
    "         'inflections': {'VB': ['lie'],\n",
    "                         'VBD': ['lay', 'lied'],\n",
    "                         'VBG': ['lying'],\n",
    "                         'VBN': ['lain', 'lied'],\n",
    "                         'VBP': ['lie'],\n",
    "                         'VBZ': ['lies']},\n",
    "          'sentence_part': ['simple predicate',\n",
    "          'complete predicate',\n",
    "          'compound predicate'],\n",
    "          'creation_type': 'manual'}}\n",
    "time_start = time.perf_counter()\n",
    "VocabularyRepository.save_to_global_vocabulary(lemma, use_manual_over_machinery=False)\n",
    "time_end = time.perf_counter()\n",
    "time_end - time_start"
   ]
  },
  {
   "cell_type": "code",
   "execution_count": 14,
   "metadata": {},
   "outputs": [
    {
     "data": {
      "text/plain": [
       "0.005823999992571771"
      ]
     },
     "execution_count": 14,
     "metadata": {},
     "output_type": "execute_result"
    }
   ],
   "source": [
    "lemma = {'lie': {'pos': 'VERB',\n",
    "         'inflections': {'VB': ['lie'],\n",
    "                         'VBD': ['lay', 'lied'],\n",
    "                         'VBG': ['lying'],\n",
    "                         'VBN': ['lain', 'lied'],\n",
    "                         'VBP': ['lie'],\n",
    "                         'VBZ': ['lies']},\n",
    "          'sentence_part': ['simple predicate',\n",
    "          'complete predicate',\n",
    "          'compound predicate'],\n",
    "          'creation_type': 'manual'}}\n",
    "time_start = time.perf_counter()\n",
    "VocabularyRepository.modify_vocabulary(lemma)\n",
    "time_end = time.perf_counter()\n",
    "time_end - time_start"
   ]
  },
  {
   "cell_type": "code",
   "execution_count": 15,
   "metadata": {},
   "outputs": [
    {
     "data": {
      "text/plain": [
       "0.002740900032222271"
      ]
     },
     "execution_count": 15,
     "metadata": {},
     "output_type": "execute_result"
    }
   ],
   "source": [
    "lemma_list = ['beach']\n",
    "time_start = time.perf_counter()\n",
    "VocabularyRepository.modify_vocabulary(lemma_list, delete_only=True)\n",
    "time_end = time.perf_counter()\n",
    "time_end - time_start"
   ]
  }
 ],
 "metadata": {
  "kernelspec": {
   "display_name": ".venv",
   "language": "python",
   "name": "python3"
  },
  "language_info": {
   "codemirror_mode": {
    "name": "ipython",
    "version": 3
   },
   "file_extension": ".py",
   "mimetype": "text/x-python",
   "name": "python",
   "nbconvert_exporter": "python",
   "pygments_lexer": "ipython3",
   "version": "3.12.1"
  }
 },
 "nbformat": 4,
 "nbformat_minor": 2
}
